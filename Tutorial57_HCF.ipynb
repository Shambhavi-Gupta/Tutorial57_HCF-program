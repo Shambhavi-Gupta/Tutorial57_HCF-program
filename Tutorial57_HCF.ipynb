{
  "nbformat": 4,
  "nbformat_minor": 0,
  "metadata": {
    "colab": {
      "name": "Tutorial57_HCF.ipynb",
      "provenance": [],
      "authorship_tag": "ABX9TyPi4XSYOJlk/s3TH+rBh9kC",
      "include_colab_link": true
    },
    "kernelspec": {
      "name": "python3",
      "display_name": "Python 3"
    }
  },
  "cells": [
    {
      "cell_type": "markdown",
      "metadata": {
        "id": "view-in-github",
        "colab_type": "text"
      },
      "source": [
        "<a href=\"https://colab.research.google.com/github/Shambhavi-Gupta/Tutorial57_HCF-program/blob/main/Tutorial57_HCF.ipynb\" target=\"_parent\"><img src=\"https://colab.research.google.com/assets/colab-badge.svg\" alt=\"Open In Colab\"/></a>"
      ]
    },
    {
      "cell_type": "code",
      "metadata": {
        "id": "lz9mBzSVp7Iq"
      },
      "source": [
        "num1 = int(input(\"Enter first number\"))\r\n",
        "num2 = int(input(\"Enter second number\"))\r\n",
        "if num2>num1:\r\n",
        "    min = num1\r\n",
        "else:\r\n",
        "    min = num2\r\n",
        "for i in range(1 , min+1):\r\n",
        "    if(num1%i == 0 and num2%i == 0):\r\n",
        "        hcf = i\r\n",
        "\r\n",
        "print(f\"HCF / GCD is {hcf}\")"
      ],
      "execution_count": null,
      "outputs": []
    }
  ]
}